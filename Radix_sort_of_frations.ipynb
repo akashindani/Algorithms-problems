{
 "cells": [
  {
   "cell_type": "code",
   "execution_count": 1,
   "metadata": {},
   "outputs": [],
   "source": [
    "def countingSort(array, place):\n",
    "    size = len(array)\n",
    "    output = [0] * size\n",
    "    count = [0] * 10\n",
    "    for i in range(0, size):\n",
    "        index = array[i] // place\n",
    "        count[index % 10] += 1\n",
    "\n",
    "    print(\"Count frequency : \",count)\n",
    "\n",
    "    for i in range(1, 10):\n",
    "        count[i] += count[i - 1]\n",
    "\n",
    "    print(\"Cumulative frequency : \",count)\n",
    "\n",
    "    i = size - 1\n",
    "    while i >= 0:\n",
    "        index = array[i] // place\n",
    "        #print(\"index:\", index)\n",
    "        output[count[index % 10] - 1] = array[i]\n",
    "        count[index % 10] -= 1\n",
    "        #print(output)\n",
    "        #print(count)\n",
    "        i -= 1\n",
    "\n",
    "    print(\"Output as of now : \", output)\n",
    "\n",
    "    for i in range(0, size):\n",
    "        array[i] = output[i]\n",
    "\n",
    "\n",
    "def radixSort(array):\n",
    "    max_element = max(array)\n",
    "    place = 1\n",
    "    while max_element // place > 0:\n",
    "        print(\"\\nCurrently working for place = \",place)\n",
    "        countingSort(array, place)\n",
    "        place *= 10\n",
    "\n"
   ]
  },
  {
   "cell_type": "code",
   "execution_count": 2,
   "metadata": {},
   "outputs": [
    {
     "name": "stdout",
     "output_type": "stream",
     "text": [
      "Input array : \n",
      "1/2\n",
      "1/3\n",
      "1/5\n",
      "1/7\n",
      "1/2\n",
      "2/3\n",
      "1/1000\n",
      "10/2\n",
      "Input array :  [0.5, 0.3333333333333333, 0.2, 0.14285714285714285, 0.5, 0.6666666666666666, 0.001, 5.0]\n",
      "\n",
      "Currently working for place =  1\n",
      "Count frequency :  [2, 0, 0, 1, 2, 1, 1, 1, 0, 0]\n",
      "Cumulative frequency :  [2, 2, 2, 3, 5, 6, 7, 8, 8, 8]\n",
      "Output as of now :  [10, 0, 33, 24, 24, 245, 16, 7]\n",
      "\n",
      "Currently working for place =  10\n",
      "Count frequency :  [2, 2, 2, 1, 1, 0, 0, 0, 0, 0]\n",
      "Cumulative frequency :  [2, 4, 6, 7, 8, 8, 8, 8, 8, 8]\n",
      "Output as of now :  [0, 7, 10, 16, 24, 24, 33, 245]\n",
      "\n",
      "Currently working for place =  100\n",
      "Count frequency :  [7, 0, 1, 0, 0, 0, 0, 0, 0, 0]\n",
      "Cumulative frequency :  [7, 7, 8, 8, 8, 8, 8, 8, 8, 8]\n",
      "Output as of now :  [0, 7, 10, 16, 24, 24, 33, 245]\n",
      "n2 values :  [0, 7, 10, 16, 24, 24, 33, 245]\n",
      "Output sorted array :  [0.001, 0.14285714285714285, 0.2, 0.3333333333333333, 0.5, 0.5, 0.6666666666666666, 5.0]\n"
     ]
    }
   ],
   "source": [
    "data=[]\n",
    "a_array = [1, 1, 1, 1, 1,2,1,10]\n",
    "b_array = [2, 3, 5, 7, 2,3,1000,2]\n",
    "print (\"Input array : \")\n",
    "for i in range(0, len(a_array)):\n",
    "    print(str(a_array[i])+\"/\"+str(b_array[i]))\n",
    "    data.append(a_array[i]/b_array[i])\n",
    "\n",
    "print (\"Input array : \", data)\n",
    "value_dict = {}\n",
    "for count, each_data in enumerate(data):\n",
    "    temp = each_data\n",
    "    data[count] = round(each_data * 49)\n",
    "    value_dict[round(each_data * 49)] = temp\n",
    "\n",
    "radixSort(data)\n",
    "print(\"n2 values : \",data)\n",
    "sorted_array = []\n",
    "for each_elem in data:\n",
    "    sorted_array.append(value_dict[each_elem])\n",
    "print(\"Output sorted array : \",sorted_array)"
   ]
  },
  {
   "cell_type": "code",
   "execution_count": null,
   "metadata": {},
   "outputs": [],
   "source": []
  }
 ],
 "metadata": {
  "kernelspec": {
   "display_name": "Python 3",
   "language": "python",
   "name": "python3"
  },
  "language_info": {
   "codemirror_mode": {
    "name": "ipython",
    "version": 3
   },
   "file_extension": ".py",
   "mimetype": "text/x-python",
   "name": "python",
   "nbconvert_exporter": "python",
   "pygments_lexer": "ipython3",
   "version": "3.7.4"
  }
 },
 "nbformat": 4,
 "nbformat_minor": 2
}
